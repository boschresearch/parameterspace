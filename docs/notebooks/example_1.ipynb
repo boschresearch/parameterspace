{
 "cells": [
  {
   "cell_type": "markdown",
   "metadata": {},
   "source": [
    "# Different parameter types\n",
    "\n",
    "This notebook simply demonstrates the different parameter types and gives an idea of the functionality.\n",
    "\n",
    "Copyright (c) 2021 - for information on the respective copyright owner\n",
    " see the NOTICE file and/or the repository https://github.com/boschresearch/parameterspace\n",
    "\n",
    "SPDX-License-Identifier: Apache-2.0"
   ]
  },
  {
   "cell_type": "code",
   "execution_count": null,
   "metadata": {},
   "outputs": [],
   "source": [
    "import numpy as np\n",
    "import matplotlib.pyplot as plt\n",
    "import parameterspace"
   ]
  },
  {
   "cell_type": "markdown",
   "metadata": {},
   "source": [
    "## A simple continuous parameter\n",
    "\n",
    "Let's first create a continuous parameter defined in the interval [-5, 5] and print out some information"
   ]
  },
  {
   "cell_type": "code",
   "execution_count": null,
   "metadata": {},
   "outputs": [],
   "source": [
    "f1 = parameterspace.ContinuousParameter(name='f1', bounds=[-5., 5.])\n",
    "print(f1)"
   ]
  },
  {
   "cell_type": "markdown",
   "metadata": {},
   "source": [
    "Now let't draw some samples from it:"
   ]
  },
  {
   "cell_type": "code",
   "execution_count": null,
   "metadata": {},
   "outputs": [],
   "source": [
    "print(\"Samples: \", f1.sample_values(5))"
   ]
  },
  {
   "cell_type": "markdown",
   "metadata": {},
   "source": [
    "Every parameter can compute the loglikelihood of a given value (that depends on the prior, but more on that later)."
   ]
  },
  {
   "cell_type": "code",
   "execution_count": null,
   "metadata": {},
   "outputs": [],
   "source": [
    "def likelihood_plots(parameter, num_samples=1024, cdf_plot=True):\n",
    "    xs = np.linspace(parameter.bounds[0]-1, parameter.bounds[1]+1, 256)\n",
    "    likelihoods = np.exp([parameter.loglikelihood(x) for x in xs])\n",
    "    plt.plot(xs, likelihoods)\n",
    "    plt.title('prior likelihood')\n",
    "    plt.xlabel(r'$%s$'%parameter.name)\n",
    "    plt.ylabel('pdf')\n",
    "    plt.show()\n",
    "\n",
    "    plt.hist(parameter.sample_values(num_samples=num_samples), density=True)\n",
    "    plt.title('empirical PDF based on sampled values')\n",
    "    plt.show()\n",
    "\n",
    "    if cdf_plot:\n",
    "        plt.hist(parameter.sample_values(num_samples=num_samples), density=True, cumulative=True, bins=64)\n",
    "        plt.title('empirical CDF based on sampled values')\n",
    "        plt.show()\n",
    "\n",
    "    \n",
    "likelihood_plots(f1)"
   ]
  },
  {
   "cell_type": "markdown",
   "metadata": {},
   "source": [
    "## Defining a prior\n",
    "\n",
    "To make things more useful, every parameter has a prior associated to it. The default is a uninformed prior ( aka a uniform distribution), but other more interesting ones are already there, namely:\n",
    "- the trucated normal distribution\n",
    "- the Beta distribution\n",
    "- a categorical distribution\n",
    "\n",
    "Because the numerical representation of the parameters is mapped into the unit hypecube, all priors must be defined in the transformed range. As an example, let us consider a truncated normal prior for a continuous parameter in the interval $[-5, 5]$. If we want to place a prior with mean 0 and a standard deviation of $2.5$, we would use a TruncatedNormal with\n",
    "- $mean=0.5$, because the interval is mapped linearly onto $[0,1]$, i.e. the original value of $0$ is mapped to $0.5$\n",
    "- $std=0.25$, because the original interval has a width of $10$, and $2.5$ is a quater of that. Therefore, the mapped standard deviation must be a quater of the mapped inteval length, which is one."
   ]
  },
  {
   "cell_type": "code",
   "execution_count": null,
   "metadata": {},
   "outputs": [],
   "source": [
    "f2_prior = parameterspace.priors.TruncatedNormal(mean=.5, std=.25)\n",
    "\n",
    "f2 = parameterspace.ContinuousParameter(name='f_1', bounds=[-5., 5.], prior=f2_prior)\n",
    "print(f2)\n",
    "\n",
    "likelihood_plots(f2)"
   ]
  },
  {
   "cell_type": "markdown",
   "metadata": {},
   "source": [
    "## Beta Prior\n",
    "\n",
    "Here is another exapmle using a Beta prior in the transformed space"
   ]
  },
  {
   "cell_type": "code",
   "execution_count": null,
   "metadata": {},
   "outputs": [],
   "source": [
    "bounds = [-3, 5]\n",
    "\n",
    "i1_prior = parameterspace.priors.Beta(a=2, b=0.5)\n",
    "i1 = parameterspace.ContinuousParameter(name='i_1', bounds=bounds, prior=i1_prior)\n",
    "\n",
    "print('Samples: ', i1.sample_values(5))\n",
    "likelihood_plots(i1)"
   ]
  },
  {
   "cell_type": "code",
   "execution_count": null,
   "metadata": {},
   "outputs": [],
   "source": [
    "bounds = [1, 256]\n",
    "i2 = parameterspace.IntegerParameter(name='i_2', bounds=bounds, transformation='log')\n",
    "print('Samples: ', i2.sample_values(32))\n",
    "likelihood_plots(i2)"
   ]
  },
  {
   "cell_type": "markdown",
   "metadata": {},
   "source": [
    "## Categorical parameters are also supported\n",
    "\n",
    "Categorical parameters do not have an intrinsic ordering, so the only meaningful prior defines the probability for each value. The values can be of 'any type' even mixing types is possible."
   ]
  },
  {
   "cell_type": "code",
   "execution_count": null,
   "metadata": {},
   "outputs": [],
   "source": [
    "values = ['foo', 'bar', 42, np.pi]\n",
    "c1_prior = [3, 1, 1, 1.5]\n",
    "\n",
    "c1 = parameterspace.CategoricalParameter(name='c_1', values=values, prior=c1_prior)\n",
    "print(c1)\n",
    "\n",
    "print('Samples: ', c1.sample_values(num_samples=10))\n",
    "\n",
    "plt.bar([0,1,2,3], np.exp([c1.loglikelihood(value) for value in values]))\n",
    "plt.xticks([0,1,2,3], values)\n",
    "plt.title('prior likelihood')\n",
    "plt.xlabel(r'$%s$'%c1.name)\n",
    "plt.ylabel('pdf')\n",
    "plt.show()\n",
    "\n",
    "c1.sample_values(num_samples=100)"
   ]
  }
 ],
 "metadata": {
  "kernelspec": {
   "display_name": "Python 3",
   "language": "python",
   "name": "python3"
  },
  "language_info": {
   "codemirror_mode": {
    "name": "ipython",
    "version": 3
   },
   "file_extension": ".py",
   "mimetype": "text/x-python",
   "name": "python",
   "nbconvert_exporter": "python",
   "pygments_lexer": "ipython3",
   "version": "3.7.9-final"
  }
 },
 "nbformat": 4,
 "nbformat_minor": 2
}
