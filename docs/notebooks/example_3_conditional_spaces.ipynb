{
 "cells": [
  {
   "cell_type": "markdown",
   "metadata": {},
   "source": [
    "# A conditional (hence more interesting) search space\n",
    "\n",
    "Copyright (c) 2021 - for information on the respective copyright owner\n",
    " see the NOTICE file and/or the repository https://github.com/boschresearch/parameterspace\n",
    "\n",
    "SPDX-License-Identifier: Apache-2.0"
   ]
  },
  {
   "cell_type": "code",
   "execution_count": null,
   "metadata": {},
   "outputs": [],
   "source": [
    "import numpy as np\n",
    "import matplotlib.pyplot as plt\n",
    "import parameterspace as ps"
   ]
  },
  {
   "cell_type": "markdown",
   "metadata": {},
   "source": [
    "As an example, consider optimizing the training parameters for a a neural network, namely which optimizer to use, and the parameters for each of them.\n",
    "The two optimizers are 'Adam' and 'SGD' with a learning rate each and a an additional momentum term for SGD."
   ]
  },
  {
   "cell_type": "code",
   "execution_count": null,
   "metadata": {},
   "outputs": [],
   "source": [
    "optimizer = ps.CategoricalParameter('optimizer', ['ADAM', 'SGD'])\n",
    "\n",
    "lr_adam = ps.ContinuousParameter('lr_adam', bounds=[1e-5, 1e-3], \n",
    "                                transformation='log')\n",
    "\n",
    "lr_sgd = ps.ContinuousParameter('lr_sgd', bounds=[1e-3, 1e-0], prior=ps.priors.TruncatedNormal(mean=0.5, std=0.2))\n",
    "\n",
    "momentum_sgd = ps.ContinuousParameter('momentum', bounds=[0, 0.9])"
   ]
  },
  {
   "cell_type": "markdown",
   "metadata": {},
   "source": [
    "Now, we can create the space containing the parameters. The condition argument must be a callable that has its argument names be parameter names and returns True if the parameter should be active and False otherwise."
   ]
  },
  {
   "cell_type": "code",
   "execution_count": null,
   "metadata": {},
   "outputs": [],
   "source": [
    "s = ps.ParameterSpace()\n",
    "\n",
    "s.add(optimizer)\n",
    "s.add(lr_adam,      condition=lambda optimizer: optimizer=='ADAM')\n",
    "s.add(lr_sgd,       condition=lambda optimizer: optimizer=='SGD')\n",
    "s.add(momentum_sgd, condition=lambda optimizer: optimizer=='SGD')\n",
    "\n",
    "print(s)"
   ]
  },
  {
   "cell_type": "markdown",
   "metadata": {},
   "source": [
    "Now we can draw samples:"
   ]
  },
  {
   "cell_type": "code",
   "execution_count": null,
   "metadata": {},
   "outputs": [],
   "source": [
    "for i in range(5):\n",
    "    print(s.sample())"
   ]
  },
  {
   "cell_type": "markdown",
   "metadata": {},
   "source": [
    "If you are interested in random samples of a subspace, you can also give a partial assignment to the sample method to set those parameters manually. Here are some samples with `ADAM` as the optimizer:"
   ]
  },
  {
   "cell_type": "code",
   "execution_count": null,
   "metadata": {},
   "outputs": [],
   "source": [
    "for i in range(5):\n",
    "    print(s.sample({'optimizer': 'ADAM'}))"
   ]
  },
  {
   "cell_type": "markdown",
   "metadata": {},
   "source": [
    "and here some with `SGD` as the optimizer:"
   ]
  },
  {
   "cell_type": "code",
   "execution_count": null,
   "metadata": {},
   "outputs": [],
   "source": [
    "for i in range(5):\n",
    "    print(s.sample({'optimizer': 'SGD'}))"
   ]
  },
  {
   "cell_type": "markdown",
   "metadata": {},
   "source": [
    "When working with these spaces, a purely numerical represetation can be accessed via the `to_numerical` method. Note that these values are in the transformed space and might contain special values (nan by default) for inactive values."
   ]
  },
  {
   "cell_type": "code",
   "execution_count": null,
   "metadata": {},
   "outputs": [],
   "source": [
    "sample = s.sample()\n",
    "print(sample)\n",
    "s.to_numerical(sample)"
   ]
  }
 ],
 "metadata": {
  "kernelspec": {
   "display_name": "Python 3",
   "language": "python",
   "name": "python3"
  },
  "language_info": {
   "codemirror_mode": {
    "name": "ipython",
    "version": 3
   },
   "file_extension": ".py",
   "mimetype": "text/x-python",
   "name": "python",
   "nbconvert_exporter": "python",
   "pygments_lexer": "ipython3",
   "version": "3.7.7"
  }
 },
 "nbformat": 4,
 "nbformat_minor": 2
}
