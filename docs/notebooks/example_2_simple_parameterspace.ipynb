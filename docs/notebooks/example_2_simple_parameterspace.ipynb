{
 "cells": [
  {
   "cell_type": "markdown",
   "metadata": {},
   "source": [
    "# A simple parameter space consisting of two continuous parameters\n",
    "\n",
    "Copyright (c) 2021 - for information on the respective copyright owner\n",
    " see the NOTICE file and/or the repository https://github.com/boschresearch/parameterspace\n",
    "\n",
    "SPDX-License-Identifier: Apache-2.0"
   ]
  },
  {
   "cell_type": "code",
   "execution_count": null,
   "metadata": {},
   "outputs": [],
   "source": [
    "import numpy as np\n",
    "import matplotlib.pyplot as plt\n",
    "import parameterspace"
   ]
  },
  {
   "cell_type": "markdown",
   "metadata": {},
   "source": [
    "Here, we actually instantiate the parameters and add them to the space"
   ]
  },
  {
   "cell_type": "code",
   "execution_count": null,
   "metadata": {},
   "outputs": [],
   "source": [
    "f1_prior = parameterspace.priors.Beta(a=2, b=1)\n",
    "f2_prior = parameterspace.priors.TruncatedNormal(mean=0.8, std=.3)\n",
    "\n",
    "f1 = parameterspace.ContinuousParameter(name='f_1', bounds=[0., 1.], prior=f1_prior)\n",
    "f2 = parameterspace.ContinuousParameter(name='f_2', bounds=[-5., 5.], prior=f2_prior)\n",
    "\n",
    "s = parameterspace.ParameterSpace()\n",
    "s.add(f1)\n",
    "s.add(f2)\n",
    "\n",
    "print(s)"
   ]
  },
  {
   "cell_type": "markdown",
   "metadata": {},
   "source": [
    "The space can also produce samples, but (for now) only one sample at a time!\n",
    "The method `to_numerical` converts a configuration (which is a dictionary) into a numpy array.\n",
    "Let's draw some samples and plot the loglikelihood for this 2d space. Note that the ranges are [0,1] for both dimensions, because we plot everything in the transformed domain. We only do this here for simplicity, because working with the true values would require logic with dictionaries rather than numpy arrays, which are simpler here."
   ]
  },
  {
   "cell_type": "code",
   "execution_count": null,
   "metadata": {},
   "outputs": [],
   "source": [
    "samples = np.array([s.to_numerical(s.sample()) for i in range(256)])\n",
    "\n",
    "\n",
    "X,Y = np.meshgrid(np.linspace(0,1, 32, endpoint=True), np.linspace(0, 1, 32, endpoint=True))\n",
    "ll =np.array([s.log_likelihood_numerical([x,y]) for x,y in zip(X.flatten(), Y.flatten())]).reshape(X.shape)\n",
    "\n",
    "fig, ax = plt.subplots()\n",
    "\n",
    "cs = ax.contourf(X,Y, ll)\n",
    "ax.scatter(samples[:,0], samples[:,1])\n",
    "fig.colorbar(cs)\n",
    "plt.show()"
   ]
  }
 ],
 "metadata": {
  "kernelspec": {
   "display_name": "Python 3",
   "language": "python",
   "name": "python3"
  },
  "language_info": {
   "codemirror_mode": {
    "name": "ipython",
    "version": 3
   },
   "file_extension": ".py",
   "mimetype": "text/x-python",
   "name": "python",
   "nbconvert_exporter": "python",
   "pygments_lexer": "ipython3",
   "version": "3.7.7"
  }
 },
 "nbformat": 4,
 "nbformat_minor": 2
}
